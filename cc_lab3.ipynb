{
  "nbformat": 4,
  "nbformat_minor": 0,
  "metadata": {
    "colab": {
      "provenance": []
    },
    "kernelspec": {
      "name": "python3",
      "display_name": "Python 3"
    },
    "language_info": {
      "name": "python"
    }
  },
  "cells": [
    {
      "cell_type": "code",
      "execution_count": 2,
      "metadata": {
        "colab": {
          "base_uri": "https://localhost:8080/"
        },
        "id": "FB1ud4kjSysN",
        "outputId": "edf3f859-36a0-4f99-f5aa-4056e9b45cef"
      },
      "outputs": [
        {
          "output_type": "stream",
          "name": "stdout",
          "text": [
            "[24.]\n"
          ]
        }
      ],
      "source": [
        "import numpy as np\n",
        "from sklearn import linear_model\n",
        "\n",
        "height = [[4.0], [5.0], [6.0], [7.0], [8.0], [9.0], [10.0]]\n",
        "weight = [8, 10, 12, 14, 16, 18, 20]\n",
        "\n",
        "reg = linear_model.LinearRegression()\n",
        "reg.fit(height, weight)\n",
        "\n",
        "X_height = [[12.0]]\n",
        "print(reg.predict(X_height))\n"
      ]
    },
    {
      "cell_type": "code",
      "source": [
        "import pandas as pd\n",
        "from sklearn.linear_model import LinearRegression\n",
        "from sklearn.pipeline import make_pipeline\n",
        "from sklearn.preprocessing import PolynomialFeatures\n",
        "\n",
        "# Input data\n",
        "x = [[4.0], [5.0], [6.0], [7.0], [8.0], [9.0], [10.0]]\n",
        "y = [16, 25, 36, 49, 64, 81, 100]\n",
        "\n",
        "# Step 2 - Fitting Linear Regression\n",
        "lin_reg = LinearRegression()\n",
        "lin_reg.fit(x, y)\n",
        "\n",
        "# Step 3 - Linear Regression prediction for a height of 11\n",
        "print(\"Linear Regression prediction for height 11:\", lin_reg.predict([[11]]))\n",
        "\n",
        "# Step 4 - Fitting Polynomial Regression (degree=1, which is still linear)\n",
        "polynomial_regression = make_pipeline(\n",
        "    PolynomialFeatures(degree=1, include_bias=False),\n",
        "    LinearRegression(),\n",
        ")\n",
        "polynomial_regression.fit(x, y)\n",
        "\n",
        "# Step 5 - Polynomial Regression prediction for a height of 20\n",
        "X_height = [[20.0]]\n",
        "target_predicted = polynomial_regression.predict(X_height)\n",
        "print(\"Polynomial Regression (degree 1) prediction for height 20:\", target_predicted)\n"
      ],
      "metadata": {
        "colab": {
          "base_uri": "https://localhost:8080/"
        },
        "id": "EsqRuF8oTVNL",
        "outputId": "df0a7f73-8f60-4593-a9a7-8557d0e8f7d9"
      },
      "execution_count": 3,
      "outputs": [
        {
          "output_type": "stream",
          "name": "stdout",
          "text": [
            "Linear Regression prediction for height 11: [109.]\n",
            "Polynomial Regression (degree 1) prediction for height 20: [235.]\n"
          ]
        }
      ]
    }
  ]
}